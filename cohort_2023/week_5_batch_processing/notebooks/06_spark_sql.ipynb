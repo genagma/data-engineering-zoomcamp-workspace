{
 "cells": [
  {
   "cell_type": "code",
   "execution_count": 1,
   "id": "5ce216db",
   "metadata": {},
   "outputs": [],
   "source": [
    "import pyspark\n",
    "from pyspark.sql import SparkSession"
   ]
  },
  {
   "cell_type": "code",
   "execution_count": 2,
   "id": "bd035e50",
   "metadata": {},
   "outputs": [
    {
     "name": "stdout",
     "output_type": "stream",
     "text": [
      "23/02/25 23:02:47 WARN Utils: Your hostname, gen-lap resolves to a loopback address: 127.0.1.1; using 192.168.1.10 instead (on interface enx00249b4d164a)\n",
      "23/02/25 23:02:47 WARN Utils: Set SPARK_LOCAL_IP if you need to bind to another address\n"
     ]
    },
    {
     "name": "stderr",
     "output_type": "stream",
     "text": [
      "Setting default log level to \"WARN\".\n",
      "To adjust logging level use sc.setLogLevel(newLevel). For SparkR, use setLogLevel(newLevel).\n"
     ]
    },
    {
     "name": "stdout",
     "output_type": "stream",
     "text": [
      "23/02/25 23:02:47 WARN NativeCodeLoader: Unable to load native-hadoop library for your platform... using builtin-java classes where applicable\n",
      "23/02/25 23:02:49 WARN Utils: Service 'SparkUI' could not bind on port 4040. Attempting port 4041.\n",
      "23/02/25 23:02:49 WARN Utils: Service 'SparkUI' could not bind on port 4041. Attempting port 4042.\n"
     ]
    }
   ],
   "source": [
    "spark = SparkSession.builder \\\n",
    "    .master(\"local[*]\") \\\n",
    "    .appName('test') \\\n",
    "    .getOrCreate()"
   ]
  },
  {
   "cell_type": "code",
   "execution_count": 27,
   "id": "1eb1e3d8",
   "metadata": {},
   "outputs": [],
   "source": [
    "df_green = spark.read.parquet('../data/pq/green/*/*')"
   ]
  },
  {
   "cell_type": "code",
   "execution_count": 48,
   "id": "ada25092",
   "metadata": {},
   "outputs": [],
   "source": [
    "df_yellow = spark.read.parquet('../data/pq/yellow/*/*')"
   ]
  },
  {
   "cell_type": "markdown",
   "id": "29384fa9",
   "metadata": {},
   "source": [
    "# Combine DF"
   ]
  },
  {
   "cell_type": "code",
   "execution_count": 5,
   "id": "fc905a38",
   "metadata": {},
   "outputs": [
    {
     "name": "stdout",
     "output_type": "stream",
     "text": [
      "root\n",
      " |-- VendorID: long (nullable = true)\n",
      " |-- lpep_pickup_datetime: timestamp (nullable = true)\n",
      " |-- lpep_dropoff_datetime: timestamp (nullable = true)\n",
      " |-- store_and_fwd_flag: string (nullable = true)\n",
      " |-- RatecodeID: integer (nullable = true)\n",
      " |-- PULocationID: integer (nullable = true)\n",
      " |-- DOLocationID: integer (nullable = true)\n",
      " |-- passenger_count: integer (nullable = true)\n",
      " |-- trip_distance: double (nullable = true)\n",
      " |-- fare_amount: double (nullable = true)\n",
      " |-- extra: double (nullable = true)\n",
      " |-- mta_tax: double (nullable = true)\n",
      " |-- tip_amount: double (nullable = true)\n",
      " |-- tolls_amount: double (nullable = true)\n",
      " |-- ehail_fee: double (nullable = true)\n",
      " |-- improvement_surcharge: double (nullable = true)\n",
      " |-- total_amount: double (nullable = true)\n",
      " |-- payment_type: integer (nullable = true)\n",
      " |-- trip_type: integer (nullable = true)\n",
      " |-- congestion_surcharge: double (nullable = true)\n",
      "\n"
     ]
    }
   ],
   "source": [
    "df_green.printSchema()"
   ]
  },
  {
   "cell_type": "code",
   "execution_count": 49,
   "id": "a48eea0b",
   "metadata": {},
   "outputs": [
    {
     "name": "stdout",
     "output_type": "stream",
     "text": [
      "root\n",
      " |-- VendorID: long (nullable = true)\n",
      " |-- tpep_pickup_datetime: timestamp (nullable = true)\n",
      " |-- tpep_dropoff_datetime: timestamp (nullable = true)\n",
      " |-- passenger_count: integer (nullable = true)\n",
      " |-- trip_distance: double (nullable = true)\n",
      " |-- RatecodeID: integer (nullable = true)\n",
      " |-- store_and_fwd_flag: string (nullable = true)\n",
      " |-- PULocationID: integer (nullable = true)\n",
      " |-- DOLocationID: integer (nullable = true)\n",
      " |-- payment_type: integer (nullable = true)\n",
      " |-- fare_amount: double (nullable = true)\n",
      " |-- extra: double (nullable = true)\n",
      " |-- mta_tax: double (nullable = true)\n",
      " |-- tip_amount: double (nullable = true)\n",
      " |-- tolls_amount: double (nullable = true)\n",
      " |-- improvement_surcharge: double (nullable = true)\n",
      " |-- total_amount: double (nullable = true)\n",
      " |-- congestion_surcharge: double (nullable = true)\n",
      "\n"
     ]
    }
   ],
   "source": [
    "df_yellow.printSchema()"
   ]
  },
  {
   "cell_type": "code",
   "execution_count": 7,
   "id": "23ffc32c",
   "metadata": {},
   "outputs": [
    {
     "data": {
      "text/plain": [
       "['VendorID',\n",
       " 'lpep_pickup_datetime',\n",
       " 'lpep_dropoff_datetime',\n",
       " 'store_and_fwd_flag',\n",
       " 'RatecodeID',\n",
       " 'PULocationID',\n",
       " 'DOLocationID',\n",
       " 'passenger_count',\n",
       " 'trip_distance',\n",
       " 'fare_amount',\n",
       " 'extra',\n",
       " 'mta_tax',\n",
       " 'tip_amount',\n",
       " 'tolls_amount',\n",
       " 'ehail_fee',\n",
       " 'improvement_surcharge',\n",
       " 'total_amount',\n",
       " 'payment_type',\n",
       " 'trip_type',\n",
       " 'congestion_surcharge']"
      ]
     },
     "execution_count": 7,
     "metadata": {},
     "output_type": "execute_result"
    }
   ],
   "source": [
    "df_green.columns"
   ]
  },
  {
   "cell_type": "code",
   "execution_count": 50,
   "id": "b31e45df",
   "metadata": {},
   "outputs": [
    {
     "data": {
      "text/plain": [
       "['VendorID',\n",
       " 'tpep_pickup_datetime',\n",
       " 'tpep_dropoff_datetime',\n",
       " 'passenger_count',\n",
       " 'trip_distance',\n",
       " 'RatecodeID',\n",
       " 'store_and_fwd_flag',\n",
       " 'PULocationID',\n",
       " 'DOLocationID',\n",
       " 'payment_type',\n",
       " 'fare_amount',\n",
       " 'extra',\n",
       " 'mta_tax',\n",
       " 'tip_amount',\n",
       " 'tolls_amount',\n",
       " 'improvement_surcharge',\n",
       " 'total_amount',\n",
       " 'congestion_surcharge']"
      ]
     },
     "execution_count": 50,
     "metadata": {},
     "output_type": "execute_result"
    }
   ],
   "source": [
    "df_yellow.columns"
   ]
  },
  {
   "cell_type": "markdown",
   "id": "b42d5871",
   "metadata": {},
   "source": [
    "# Check the columns in common"
   ]
  },
  {
   "cell_type": "code",
   "execution_count": 51,
   "id": "5c133913",
   "metadata": {},
   "outputs": [
    {
     "data": {
      "text/plain": [
       "{'DOLocationID',\n",
       " 'PULocationID',\n",
       " 'RatecodeID',\n",
       " 'VendorID',\n",
       " 'congestion_surcharge',\n",
       " 'extra',\n",
       " 'fare_amount',\n",
       " 'improvement_surcharge',\n",
       " 'mta_tax',\n",
       " 'passenger_count',\n",
       " 'payment_type',\n",
       " 'store_and_fwd_flag',\n",
       " 'tip_amount',\n",
       " 'tolls_amount',\n",
       " 'total_amount',\n",
       " 'trip_distance'}"
      ]
     },
     "execution_count": 51,
     "metadata": {},
     "output_type": "execute_result"
    }
   ],
   "source": [
    "set(df_green.columns) & set(df_yellow.columns)"
   ]
  },
  {
   "cell_type": "markdown",
   "id": "501743ad",
   "metadata": {},
   "source": [
    "### change the name datetime columns to same in both DF"
   ]
  },
  {
   "cell_type": "code",
   "execution_count": 52,
   "id": "dcbd56fe",
   "metadata": {},
   "outputs": [],
   "source": [
    "df_green = df_green \\\n",
    "    .withColumnRenamed('lpep_pickup_datetime', 'pickup_datetime') \\\n",
    "    .withColumnRenamed('lpep_dropoff_datetime', 'dropoff_datetime')\n",
    "\n",
    "df_yellow = df_yellow \\\n",
    "    .withColumnRenamed('tpep_pickup_datetime', 'pickup_datetime') \\\n",
    "    .withColumnRenamed('tpep_dropoff_datetime', 'dropoff_datetime') \\\n",
    "    "
   ]
  },
  {
   "cell_type": "markdown",
   "id": "f3fb4a39",
   "metadata": {},
   "source": [
    "### Get common columns"
   ]
  },
  {
   "cell_type": "code",
   "execution_count": 53,
   "id": "acd23472",
   "metadata": {},
   "outputs": [],
   "source": [
    "common_columns = []\n",
    "\n",
    "yellow_columns = set(df_yellow.columns)\n",
    "\n",
    "for col in df_green.columns:\n",
    "    if col in yellow_columns:\n",
    "        common_columns.append(col)"
   ]
  },
  {
   "cell_type": "code",
   "execution_count": 54,
   "id": "832a8ae4",
   "metadata": {},
   "outputs": [
    {
     "data": {
      "text/plain": [
       "['VendorID',\n",
       " 'pickup_datetime',\n",
       " 'dropoff_datetime',\n",
       " 'store_and_fwd_flag',\n",
       " 'RatecodeID',\n",
       " 'PULocationID',\n",
       " 'DOLocationID',\n",
       " 'passenger_count',\n",
       " 'trip_distance',\n",
       " 'fare_amount',\n",
       " 'extra',\n",
       " 'mta_tax',\n",
       " 'tip_amount',\n",
       " 'tolls_amount',\n",
       " 'improvement_surcharge',\n",
       " 'total_amount',\n",
       " 'payment_type',\n",
       " 'congestion_surcharge']"
      ]
     },
     "execution_count": 54,
     "metadata": {},
     "output_type": "execute_result"
    }
   ],
   "source": [
    "common_columns"
   ]
  },
  {
   "cell_type": "markdown",
   "id": "9ace97c2",
   "metadata": {},
   "source": [
    "### select common columns from both DF and set the service type origin"
   ]
  },
  {
   "cell_type": "code",
   "execution_count": 15,
   "id": "a9a00107",
   "metadata": {},
   "outputs": [],
   "source": [
    "from pyspark.sql import functions as F"
   ]
  },
  {
   "cell_type": "code",
   "execution_count": 55,
   "id": "6b6bd7a8",
   "metadata": {},
   "outputs": [],
   "source": [
    "df_green_sel = df_green \\\n",
    "    .select(common_columns) \\\n",
    "    .withColumn('service_type', F.lit('green'))"
   ]
  },
  {
   "cell_type": "code",
   "execution_count": 56,
   "id": "1313cc5a",
   "metadata": {},
   "outputs": [],
   "source": [
    "df_yellow_sel = df_yellow \\\n",
    "    .select(common_columns) \\\n",
    "    .withColumn('service_type', F.lit('yellow'))"
   ]
  },
  {
   "cell_type": "markdown",
   "id": "ac373dde",
   "metadata": {},
   "source": [
    "### Union DF"
   ]
  },
  {
   "cell_type": "code",
   "execution_count": 57,
   "id": "7bd56b0d",
   "metadata": {},
   "outputs": [],
   "source": [
    "df_trips_data = df_green_sel.unionAll(df_yellow_sel)"
   ]
  },
  {
   "cell_type": "code",
   "execution_count": 58,
   "id": "5908a724",
   "metadata": {},
   "outputs": [
    {
     "name": "stderr",
     "output_type": "stream",
     "text": [
      "[Stage 22:====================================================>   (15 + 1) / 16]\r"
     ]
    },
    {
     "name": "stdout",
     "output_type": "stream",
     "text": [
      "+------------+--------+\n",
      "|service_type|   count|\n",
      "+------------+--------+\n",
      "|       green| 2304517|\n",
      "|      yellow|39649199|\n",
      "+------------+--------+\n",
      "\n"
     ]
    },
    {
     "name": "stderr",
     "output_type": "stream",
     "text": [
      "\r",
      "                                                                                \r"
     ]
    }
   ],
   "source": [
    "df_trips_data.groupBy('service_type').count().show()"
   ]
  },
  {
   "cell_type": "code",
   "execution_count": 59,
   "id": "eb853432",
   "metadata": {},
   "outputs": [],
   "source": [
    "df_trips_data.registerTempTable('trips_data')"
   ]
  },
  {
   "cell_type": "code",
   "execution_count": 60,
   "id": "d2fab35e",
   "metadata": {},
   "outputs": [
    {
     "name": "stderr",
     "output_type": "stream",
     "text": [
      "[Stage 25:=============================================>          (13 + 3) / 16]\r"
     ]
    },
    {
     "name": "stdout",
     "output_type": "stream",
     "text": [
      "+------------+--------+\n",
      "|service_type|count(1)|\n",
      "+------------+--------+\n",
      "|       green| 2304517|\n",
      "|      yellow|39649199|\n",
      "+------------+--------+\n",
      "\n"
     ]
    },
    {
     "name": "stderr",
     "output_type": "stream",
     "text": [
      "\r",
      "[Stage 25:====================================================>   (15 + 1) / 16]\r",
      "\r",
      "                                                                                \r"
     ]
    }
   ],
   "source": [
    "spark.sql(\"\"\"\n",
    "SELECT \n",
    "    service_type,\n",
    "    count(1)\n",
    "FROM trips_data \n",
    "GROUP BY\n",
    "    service_type\n",
    "\"\"\").show()"
   ]
  },
  {
   "cell_type": "code",
   "execution_count": 62,
   "id": "591e26d8",
   "metadata": {},
   "outputs": [],
   "source": [
    "df_result = spark.sql(\"\"\"\n",
    "SELECT \n",
    "    -- Reveneue grouping \n",
    "    PULocationID AS revenue_zone,\n",
    "    date_trunc('month', pickup_datetime) AS revenue_month, \n",
    "    service_type, \n",
    "\n",
    "    -- Revenue calculation \n",
    "    SUM(fare_amount) AS revenue_monthly_fare,\n",
    "    SUM(extra) AS revenue_monthly_extra,\n",
    "    SUM(mta_tax) AS revenue_monthly_mta_tax,\n",
    "    SUM(tip_amount) AS revenue_monthly_tip_amount,\n",
    "    SUM(tolls_amount) AS revenue_monthly_tolls_amount,\n",
    "    SUM(improvement_surcharge) AS revenue_monthly_improvement_surcharge,\n",
    "    SUM(total_amount) AS revenue_monthly_total_amount,\n",
    "    SUM(congestion_surcharge) AS revenue_monthly_congestion_surcharge,\n",
    "\n",
    "    -- Additional calculations\n",
    "    AVG(passenger_count) AS avg_montly_passenger_count,\n",
    "    AVG(trip_distance) AS avg_montly_trip_distance\n",
    "FROM \n",
    "    trips_data\n",
    "GROUP BY \n",
    "    1,2,3\n",
    "\"\"\")\n"
   ]
  },
  {
   "cell_type": "code",
   "execution_count": 63,
   "id": "889be805",
   "metadata": {},
   "outputs": [
    {
     "name": "stderr",
     "output_type": "stream",
     "text": [
      "[Stage 28:====================================================>   (15 + 1) / 16]\r"
     ]
    },
    {
     "name": "stdout",
     "output_type": "stream",
     "text": [
      "+------------+-------------------+------------+--------------------+---------------------+-----------------------+--------------------------+----------------------------+-------------------------------------+----------------------------+------------------------------------+--------------------------+------------------------+\n",
      "|revenue_zone|      revenue_month|service_type|revenue_monthly_fare|revenue_monthly_extra|revenue_monthly_mta_tax|revenue_monthly_tip_amount|revenue_monthly_tolls_amount|revenue_monthly_improvement_surcharge|revenue_monthly_total_amount|revenue_monthly_congestion_surcharge|avg_montly_passenger_count|avg_montly_trip_distance|\n",
      "+------------+-------------------+------------+--------------------+---------------------+-----------------------+--------------------------+----------------------------+-------------------------------------+----------------------------+------------------------------------+--------------------------+------------------------+\n",
      "|         250|2020-01-01 00:00:00|       green|  19288.010000000057|              1266.75|                  171.5|         47.57000000000001|           978.4800000000006|                   226.20000000000286|          21984.359999999928|                                 0.0|         1.355072463768116|        5.27563015312132|\n",
      "|          12|2020-01-01 00:00:00|       green|              161.01|                  5.5|                    1.0|                       0.0|                       12.24|                                  1.2|                      180.95|                                null|                      null|      0.7150000000000007|\n",
      "|         148|2020-01-01 00:00:00|       green|  1506.7899999999997|                 83.5|                    3.5|                       0.0|          48.959999999999994|                   14.400000000000013|          1657.1500000000005|                                 0.0|                       1.0|       7.221875000000002|\n",
      "|         188|2020-02-01 00:00:00|       green|    45876.0200000001|               4048.5|                  480.0|         512.0100000000001|           550.7200000000005|                    588.6000000000021|           52174.29999999988|                                66.0|        1.1980874316939891|       3.839839243498818|\n",
      "|           7|2020-03-01 00:00:00|       green|   76390.65999999999|              2712.25|                 3488.5|         6102.549999999991|           882.6300000000005|                   2203.4999999998754|           93256.04000000907|                             1443.75|         1.460755197284684|      2.2964660639589813|\n",
      "|         128|2020-02-01 00:00:00|       green|  2242.7000000000003|               114.75|                   34.5|         78.99000000000002|           70.11999999999999|                   28.500000000000046|          2598.1099999999997|                               13.75|        1.0151515151515151|       5.076407766990291|\n",
      "|         118|2020-03-01 00:00:00|       green|  218.29999999999998|                  1.5|                    1.5|                     12.22|                         0.0|                                  1.8|          235.31999999999996|                                 0.0|                      2.25|       7.208333333333333|\n",
      "|          58|2020-10-01 00:00:00|       green|              225.51|                  0.0|                    0.0|                      26.0|                        6.12|                                  2.7|          263.08000000000004|                                null|                      null|        5.84111111111111|\n",
      "|         165|2020-01-01 00:00:00|       green|  24802.129999999972|               1549.0|                  189.5|        101.14999999999999|          495.95000000000033|                   268.80000000000445|           27427.27999999991|                                11.0|        1.1891891891891893|       4.462666025024059|\n",
      "|          88|2020-01-01 00:00:00|       green|   4146.879999999999|               223.75|                   16.0|                       0.0|           273.0900000000001|                    30.30000000000005|           4690.020000000001|                                 0.0|                       1.0|      11.439108910891084|\n",
      "|         216|2020-02-01 00:00:00|       green|  19758.420000000046|               1245.0|                  110.0|        102.96000000000001|           424.2500000000003|                    195.3000000000017|          21843.379999999932|                                 5.5|        1.1793893129770991|       6.703884785819801|\n",
      "|          73|2020-03-01 00:00:00|       green|  1188.6899999999998|                 8.25|                    9.5|                      12.9|          48.959999999999994|                   18.900000000000023|          1287.1999999999996|                                 0.0|        1.0952380952380953|       5.374444444444446|\n",
      "|          64|2020-01-01 00:00:00|       green|   4218.469999999997|               273.25|                   20.0|                      3.26|          128.52000000000004|                    41.69999999999996|           4687.150000000002|                                 0.0|        1.4583333333333333|       6.679932885906039|\n",
      "|         181|2020-10-01 00:00:00|       green|  19117.400000000005|                142.5|                  239.5|         2084.579999999999|                      212.13|                   300.60000000000264|          22221.459999999952|                                90.5|        1.1533742331288344|      3.6815453639082776|\n",
      "|          48|2020-01-01 00:00:00|       green|   3266.299999999999|                220.0|                   19.0|                       0.0|          128.00000000000003|                   32.700000000000045|                      3666.0|                                 0.0|                       1.0|        7.99761467889908|\n",
      "|         113|2020-01-01 00:00:00|       green|             1049.91|                 78.0|                    3.0|                       0.0|                       36.72|                   10.800000000000004|                     1178.43|                                 0.0|                       2.0|       7.130833333333332|\n",
      "|         168|2019-12-01 00:00:00|       green|                20.0|                  0.5|                    0.5|                       0.0|                         0.0|                                  0.3|                        21.3|                                 0.0|                       1.0|                    6.54|\n",
      "|         204|2020-02-01 00:00:00|       green|              101.96|                 2.75|                    0.5|                       0.0|                       12.24|                                  0.3|                      117.75|                                null|                      null|                   35.62|\n",
      "|         206|2020-03-01 00:00:00|       green|  393.16999999999996|                  3.5|                    3.5|                      7.96|           72.46000000000001|                    3.599999999999999|          484.19000000000005|                                 0.0|        3.2857142857142856|       9.602500000000001|\n",
      "|          92|2020-02-01 00:00:00|       green|   58603.95999999994|              2375.25|                 1217.0|         2973.050000000001|           796.6300000000005|                    921.2999999999516|           67048.79000000213|                              151.25|        1.1366245694603903|       4.383409018228328|\n",
      "+------------+-------------------+------------+--------------------+---------------------+-----------------------+--------------------------+----------------------------+-------------------------------------+----------------------------+------------------------------------+--------------------------+------------------------+\n",
      "only showing top 20 rows\n",
      "\n"
     ]
    },
    {
     "name": "stderr",
     "output_type": "stream",
     "text": [
      "\r",
      "                                                                                \r"
     ]
    }
   ],
   "source": [
    "df_result.show()"
   ]
  },
  {
   "cell_type": "code",
   "execution_count": 66,
   "id": "f6fd099d",
   "metadata": {},
   "outputs": [
    {
     "name": "stderr",
     "output_type": "stream",
     "text": [
      "                                                                                \r"
     ]
    }
   ],
   "source": [
    "df_result.coalesce(1).write.parquet('../data/report/revenue/', mode='overwrite')"
   ]
  },
  {
   "cell_type": "code",
   "execution_count": null,
   "id": "061dbd36",
   "metadata": {},
   "outputs": [],
   "source": []
  }
 ],
 "metadata": {
  "kernelspec": {
   "display_name": "Python 3 (ipykernel)",
   "language": "python",
   "name": "python3"
  },
  "language_info": {
   "codemirror_mode": {
    "name": "ipython",
    "version": 3
   },
   "file_extension": ".py",
   "mimetype": "text/x-python",
   "name": "python",
   "nbconvert_exporter": "python",
   "pygments_lexer": "ipython3",
   "version": "3.9.16"
  }
 },
 "nbformat": 4,
 "nbformat_minor": 5
}
