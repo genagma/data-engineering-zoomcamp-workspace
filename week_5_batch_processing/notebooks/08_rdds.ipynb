{
 "cells": [
  {
   "cell_type": "code",
   "execution_count": 111,
   "id": "c7e605ea",
   "metadata": {},
   "outputs": [],
   "source": [
    "import pyspark\n",
    "from pyspark.sql import SparkSession"
   ]
  },
  {
   "cell_type": "code",
   "execution_count": 112,
   "id": "b843a153",
   "metadata": {},
   "outputs": [],
   "source": [
    "spark = SparkSession.builder \\\n",
    "    .master(\"local[*]\") \\\n",
    "    .appName('test') \\\n",
    "    .getOrCreate()"
   ]
  },
  {
   "cell_type": "code",
   "execution_count": 113,
   "id": "822c56f6",
   "metadata": {},
   "outputs": [
    {
     "name": "stderr",
     "output_type": "stream",
     "text": [
      "\r",
      "                                                                                \r"
     ]
    }
   ],
   "source": [
    "df_green = spark.read.parquet('../data/pq/green/*/*')"
   ]
  },
  {
   "cell_type": "code",
   "execution_count": 114,
   "id": "818a7d3c",
   "metadata": {},
   "outputs": [
    {
     "data": {
      "text/plain": [
       "\"\\nSELECT \\n    date_trunc('hour', lpep_pickup_datetime) AS hour, \\n    PULocationID AS zone,\\n\\n    SUM(total_amount) AS amount,\\n    COUNT(1) AS number_records\\nFROM \\n    green\\nWHERE\\n    lpep_pickup_datetime >= '2020-01-01 00:00:00'\\nGROUP BY \\n    1,2\\nORDER BY\\n    1,2\\n\""
      ]
     },
     "execution_count": 114,
     "metadata": {},
     "output_type": "execute_result"
    }
   ],
   "source": [
    "\"\"\"\n",
    "SELECT \n",
    "    date_trunc('hour', lpep_pickup_datetime) AS hour, \n",
    "    PULocationID AS zone,\n",
    "\n",
    "    SUM(total_amount) AS amount,\n",
    "    COUNT(1) AS number_records\n",
    "FROM \n",
    "    green\n",
    "WHERE\n",
    "    lpep_pickup_datetime >= '2020-01-01 00:00:00'\n",
    "GROUP BY \n",
    "    1,2\n",
    "ORDER BY\n",
    "    1,2\n",
    "\"\"\""
   ]
  },
  {
   "cell_type": "code",
   "execution_count": 115,
   "id": "32b908c4",
   "metadata": {},
   "outputs": [
    {
     "name": "stdout",
     "output_type": "stream",
     "text": [
      "+--------+--------------------+---------------------+------------------+----------+------------+------------+---------------+-------------+-----------+-----+-------+----------+------------+---------+---------------------+------------+------------+---------+--------------------+\n",
      "|VendorID|lpep_pickup_datetime|lpep_dropoff_datetime|store_and_fwd_flag|RatecodeID|PULocationID|DOLocationID|passenger_count|trip_distance|fare_amount|extra|mta_tax|tip_amount|tolls_amount|ehail_fee|improvement_surcharge|total_amount|payment_type|trip_type|congestion_surcharge|\n",
      "+--------+--------------------+---------------------+------------------+----------+------------+------------+---------------+-------------+-----------+-----+-------+----------+------------+---------+---------------------+------------+------------+---------+--------------------+\n",
      "|       2| 2020-01-16 23:31:44|  2020-01-16 23:46:21|                 N|         1|          65|          56|              1|          8.6|       24.5|  0.5|    0.5|       0.0|         0.0|     null|                  0.3|        25.8|           2|        1|                 0.0|\n",
      "|       2| 2020-01-14 15:01:42|  2020-01-14 15:28:14|                 N|         1|         129|         141|              5|         5.16|       20.5|  0.0|    0.5|       0.0|         0.0|     null|                  0.3|       24.05|           2|        1|                2.75|\n",
      "|    null| 2020-01-24 05:55:00|  2020-01-24 06:26:00|              null|      null|         242|         261|           null|        16.27|       53.2| 2.75|    0.5|       0.0|        6.12|     null|                  0.3|       62.87|        null|     null|                null|\n",
      "|       2| 2020-01-31 08:19:03|  2020-01-31 08:24:35|                 N|         1|         166|         238|              1|         1.42|        6.5|  0.0|    0.5|      1.46|         0.0|     null|                  0.3|        8.76|           1|        1|                 0.0|\n",
      "|    null| 2020-01-12 18:54:00|  2020-01-12 19:11:00|              null|      null|          41|         235|           null|         4.62|      14.24|  0.0|    0.0|       0.0|         0.0|     null|                  0.3|       14.54|        null|     null|                null|\n",
      "|       2| 2020-01-11 17:13:41|  2020-01-11 17:33:40|                 N|         1|          66|          49|              6|         2.67|       14.5|  0.0|    0.5|      3.06|         0.0|     null|                  0.3|       18.36|           1|        1|                 0.0|\n",
      "|       2| 2020-01-29 19:23:03|  2020-01-29 19:29:47|                 N|         1|         260|         226|              2|         0.64|        6.0|  1.0|    0.5|       1.0|         0.0|     null|                  0.3|         8.8|           1|        1|                 0.0|\n",
      "|       2| 2020-01-26 11:45:13|  2020-01-26 11:47:10|                 N|         1|         116|         116|              1|         0.43|        3.5|  0.0|    0.5|       0.0|         0.0|     null|                  0.3|         4.3|           2|        1|                 0.0|\n",
      "|       2| 2020-01-03 08:58:57|  2020-01-03 09:07:19|                 N|         1|          74|          75|              1|         1.38|        7.0|  0.0|    0.5|       0.0|         0.0|     null|                  0.3|         7.8|           2|        1|                 0.0|\n",
      "|       2| 2020-01-27 21:56:19|  2020-01-27 22:01:04|                 N|         1|          41|          74|              1|          1.0|        5.5|  0.5|    0.5|      1.02|         0.0|     null|                  0.3|        7.82|           1|        1|                 0.0|\n",
      "|       2| 2020-01-09 20:15:26|  2020-01-09 20:27:42|                 N|         1|         260|         129|              2|         1.42|        9.0|  0.5|    0.5|       0.0|         0.0|     null|                  0.3|        10.3|           2|        1|                 0.0|\n",
      "|    null| 2020-01-24 14:53:00|  2020-01-24 15:21:00|              null|      null|         167|          46|           null|         8.23|      33.66| 2.75|    0.0|       0.0|         0.0|     null|                  0.3|       36.71|        null|     null|                null|\n",
      "|    null| 2020-01-19 17:16:00|  2020-01-19 17:41:00|              null|      null|         223|          82|           null|         6.71|      25.21| 2.75|    0.0|       0.0|         0.0|     null|                  0.3|       28.26|        null|     null|                null|\n",
      "|       1| 2020-01-07 11:58:40|  2020-01-07 12:38:14|                 N|         1|          33|          76|              1|          0.0|       26.2|  0.0|    0.5|       0.0|         0.0|     null|                  0.3|        27.0|           1|        1|                 0.0|\n",
      "|    null| 2020-01-05 13:03:00|  2020-01-05 13:24:00|              null|      null|         117|         124|           null|         8.25|      38.46| 2.75|    0.0|       0.0|        2.29|     null|                  0.3|        43.8|        null|     null|                null|\n",
      "|       2| 2020-01-18 03:36:05|  2020-01-18 03:44:35|                 N|         1|          80|          80|              1|         1.43|        8.0|  0.5|    0.5|      1.86|         0.0|     null|                  0.3|       11.16|           1|        1|                 0.0|\n",
      "|    null| 2020-01-24 18:35:00|  2020-01-24 19:18:00|              null|      null|          45|         124|           null|        10.24|      40.45| 2.75|    0.0|       0.0|         0.0|     null|                  0.3|        43.5|        null|     null|                null|\n",
      "|       2| 2020-01-16 21:37:47|  2020-01-16 21:41:29|                 N|         1|         181|         181|              1|         0.61|        4.5|  0.5|    0.5|      1.45|         0.0|     null|                  0.3|        7.25|           1|        1|                 0.0|\n",
      "|       2| 2020-01-02 01:14:51|  2020-01-02 01:21:39|                 N|         1|          82|          56|              1|         1.62|        7.5|  0.5|    0.5|       0.0|         0.0|     null|                  0.3|         8.8|           2|        1|                 0.0|\n",
      "|       2| 2020-01-17 11:35:04|  2020-01-17 11:57:37|                 N|         1|         116|          74|              1|         3.43|       16.5|  0.0|    0.5|       1.0|         0.0|     null|                  0.3|        18.3|           1|        1|                 0.0|\n",
      "+--------+--------------------+---------------------+------------------+----------+------------+------------+---------------+-------------+-----------+-----+-------+----------+------------+---------+---------------------+------------+------------+---------+--------------------+\n",
      "only showing top 20 rows\n",
      "\n"
     ]
    }
   ],
   "source": [
    "df_green.show()"
   ]
  },
  {
   "cell_type": "code",
   "execution_count": 116,
   "id": "8b5f10dc",
   "metadata": {},
   "outputs": [
    {
     "data": {
      "text/plain": [
       "MapPartitionsRDD[186] at javaToPython at NativeMethodAccessorImpl.java:0"
      ]
     },
     "execution_count": 116,
     "metadata": {},
     "output_type": "execute_result"
    }
   ],
   "source": [
    "df_green.rdd"
   ]
  },
  {
   "cell_type": "code",
   "execution_count": 117,
   "id": "f6a7e302",
   "metadata": {},
   "outputs": [
    {
     "data": {
      "text/plain": [
       "[Row(VendorID=2, lpep_pickup_datetime=datetime.datetime(2020, 1, 16, 23, 31, 44), lpep_dropoff_datetime=datetime.datetime(2020, 1, 16, 23, 46, 21), store_and_fwd_flag='N', RatecodeID=1, PULocationID=65, DOLocationID=56, passenger_count=1, trip_distance=8.6, fare_amount=24.5, extra=0.5, mta_tax=0.5, tip_amount=0.0, tolls_amount=0.0, ehail_fee=None, improvement_surcharge=0.3, total_amount=25.8, payment_type=2, trip_type=1, congestion_surcharge=0.0),\n",
       " Row(VendorID=2, lpep_pickup_datetime=datetime.datetime(2020, 1, 14, 15, 1, 42), lpep_dropoff_datetime=datetime.datetime(2020, 1, 14, 15, 28, 14), store_and_fwd_flag='N', RatecodeID=1, PULocationID=129, DOLocationID=141, passenger_count=5, trip_distance=5.16, fare_amount=20.5, extra=0.0, mta_tax=0.5, tip_amount=0.0, tolls_amount=0.0, ehail_fee=None, improvement_surcharge=0.3, total_amount=24.05, payment_type=2, trip_type=1, congestion_surcharge=2.75),\n",
       " Row(VendorID=None, lpep_pickup_datetime=datetime.datetime(2020, 1, 24, 5, 55), lpep_dropoff_datetime=datetime.datetime(2020, 1, 24, 6, 26), store_and_fwd_flag=None, RatecodeID=None, PULocationID=242, DOLocationID=261, passenger_count=None, trip_distance=16.27, fare_amount=53.2, extra=2.75, mta_tax=0.5, tip_amount=0.0, tolls_amount=6.12, ehail_fee=None, improvement_surcharge=0.3, total_amount=62.87, payment_type=None, trip_type=None, congestion_surcharge=None),\n",
       " Row(VendorID=2, lpep_pickup_datetime=datetime.datetime(2020, 1, 31, 8, 19, 3), lpep_dropoff_datetime=datetime.datetime(2020, 1, 31, 8, 24, 35), store_and_fwd_flag='N', RatecodeID=1, PULocationID=166, DOLocationID=238, passenger_count=1, trip_distance=1.42, fare_amount=6.5, extra=0.0, mta_tax=0.5, tip_amount=1.46, tolls_amount=0.0, ehail_fee=None, improvement_surcharge=0.3, total_amount=8.76, payment_type=1, trip_type=1, congestion_surcharge=0.0),\n",
       " Row(VendorID=None, lpep_pickup_datetime=datetime.datetime(2020, 1, 12, 18, 54), lpep_dropoff_datetime=datetime.datetime(2020, 1, 12, 19, 11), store_and_fwd_flag=None, RatecodeID=None, PULocationID=41, DOLocationID=235, passenger_count=None, trip_distance=4.62, fare_amount=14.24, extra=0.0, mta_tax=0.0, tip_amount=0.0, tolls_amount=0.0, ehail_fee=None, improvement_surcharge=0.3, total_amount=14.54, payment_type=None, trip_type=None, congestion_surcharge=None),\n",
       " Row(VendorID=2, lpep_pickup_datetime=datetime.datetime(2020, 1, 11, 17, 13, 41), lpep_dropoff_datetime=datetime.datetime(2020, 1, 11, 17, 33, 40), store_and_fwd_flag='N', RatecodeID=1, PULocationID=66, DOLocationID=49, passenger_count=6, trip_distance=2.67, fare_amount=14.5, extra=0.0, mta_tax=0.5, tip_amount=3.06, tolls_amount=0.0, ehail_fee=None, improvement_surcharge=0.3, total_amount=18.36, payment_type=1, trip_type=1, congestion_surcharge=0.0),\n",
       " Row(VendorID=2, lpep_pickup_datetime=datetime.datetime(2020, 1, 29, 19, 23, 3), lpep_dropoff_datetime=datetime.datetime(2020, 1, 29, 19, 29, 47), store_and_fwd_flag='N', RatecodeID=1, PULocationID=260, DOLocationID=226, passenger_count=2, trip_distance=0.64, fare_amount=6.0, extra=1.0, mta_tax=0.5, tip_amount=1.0, tolls_amount=0.0, ehail_fee=None, improvement_surcharge=0.3, total_amount=8.8, payment_type=1, trip_type=1, congestion_surcharge=0.0),\n",
       " Row(VendorID=2, lpep_pickup_datetime=datetime.datetime(2020, 1, 26, 11, 45, 13), lpep_dropoff_datetime=datetime.datetime(2020, 1, 26, 11, 47, 10), store_and_fwd_flag='N', RatecodeID=1, PULocationID=116, DOLocationID=116, passenger_count=1, trip_distance=0.43, fare_amount=3.5, extra=0.0, mta_tax=0.5, tip_amount=0.0, tolls_amount=0.0, ehail_fee=None, improvement_surcharge=0.3, total_amount=4.3, payment_type=2, trip_type=1, congestion_surcharge=0.0),\n",
       " Row(VendorID=2, lpep_pickup_datetime=datetime.datetime(2020, 1, 3, 8, 58, 57), lpep_dropoff_datetime=datetime.datetime(2020, 1, 3, 9, 7, 19), store_and_fwd_flag='N', RatecodeID=1, PULocationID=74, DOLocationID=75, passenger_count=1, trip_distance=1.38, fare_amount=7.0, extra=0.0, mta_tax=0.5, tip_amount=0.0, tolls_amount=0.0, ehail_fee=None, improvement_surcharge=0.3, total_amount=7.8, payment_type=2, trip_type=1, congestion_surcharge=0.0),\n",
       " Row(VendorID=2, lpep_pickup_datetime=datetime.datetime(2020, 1, 27, 21, 56, 19), lpep_dropoff_datetime=datetime.datetime(2020, 1, 27, 22, 1, 4), store_and_fwd_flag='N', RatecodeID=1, PULocationID=41, DOLocationID=74, passenger_count=1, trip_distance=1.0, fare_amount=5.5, extra=0.5, mta_tax=0.5, tip_amount=1.02, tolls_amount=0.0, ehail_fee=None, improvement_surcharge=0.3, total_amount=7.82, payment_type=1, trip_type=1, congestion_surcharge=0.0)]"
      ]
     },
     "execution_count": 117,
     "metadata": {},
     "output_type": "execute_result"
    }
   ],
   "source": [
    "df_green.rdd.take(10)"
   ]
  },
  {
   "cell_type": "code",
   "execution_count": 118,
   "id": "4f9d8a9b",
   "metadata": {},
   "outputs": [],
   "source": [
    "rdd = df_green \\\n",
    "        .select('lpep_pickup_datetime', 'PULocationID', 'total_amount') \\\n",
    "        .rdd"
   ]
  },
  {
   "cell_type": "code",
   "execution_count": 119,
   "id": "1cbf2c61",
   "metadata": {},
   "outputs": [
    {
     "data": {
      "text/plain": [
       "[Row(lpep_pickup_datetime=datetime.datetime(2020, 1, 16, 23, 31, 44), PULocationID=65, total_amount=25.8),\n",
       " Row(lpep_pickup_datetime=datetime.datetime(2020, 1, 14, 15, 1, 42), PULocationID=129, total_amount=24.05),\n",
       " Row(lpep_pickup_datetime=datetime.datetime(2020, 1, 24, 5, 55), PULocationID=242, total_amount=62.87),\n",
       " Row(lpep_pickup_datetime=datetime.datetime(2020, 1, 31, 8, 19, 3), PULocationID=166, total_amount=8.76),\n",
       " Row(lpep_pickup_datetime=datetime.datetime(2020, 1, 12, 18, 54), PULocationID=41, total_amount=14.54),\n",
       " Row(lpep_pickup_datetime=datetime.datetime(2020, 1, 11, 17, 13, 41), PULocationID=66, total_amount=18.36),\n",
       " Row(lpep_pickup_datetime=datetime.datetime(2020, 1, 29, 19, 23, 3), PULocationID=260, total_amount=8.8),\n",
       " Row(lpep_pickup_datetime=datetime.datetime(2020, 1, 26, 11, 45, 13), PULocationID=116, total_amount=4.3),\n",
       " Row(lpep_pickup_datetime=datetime.datetime(2020, 1, 3, 8, 58, 57), PULocationID=74, total_amount=7.8),\n",
       " Row(lpep_pickup_datetime=datetime.datetime(2020, 1, 27, 21, 56, 19), PULocationID=41, total_amount=7.82)]"
      ]
     },
     "execution_count": 119,
     "metadata": {},
     "output_type": "execute_result"
    }
   ],
   "source": [
    "rdd.take(10)"
   ]
  },
  {
   "cell_type": "code",
   "execution_count": 120,
   "id": "3ec0cdb1",
   "metadata": {},
   "outputs": [],
   "source": [
    "from datetime import datetime"
   ]
  },
  {
   "cell_type": "code",
   "execution_count": 121,
   "id": "c6534a96",
   "metadata": {},
   "outputs": [],
   "source": [
    "start = datetime(year=2020, month=1, day=1)"
   ]
  },
  {
   "cell_type": "code",
   "execution_count": 122,
   "id": "588c1be1",
   "metadata": {},
   "outputs": [],
   "source": [
    "def filter_outliers(row):\n",
    "    return row.lpep_pickup_datetime >= start"
   ]
  },
  {
   "cell_type": "code",
   "execution_count": 123,
   "id": "9cb36e3a",
   "metadata": {},
   "outputs": [],
   "source": [
    "rows = rdd.take(10)\n",
    "row = rows[0]"
   ]
  },
  {
   "cell_type": "code",
   "execution_count": 124,
   "id": "21d4ffad",
   "metadata": {},
   "outputs": [
    {
     "data": {
      "text/plain": [
       "datetime.datetime(2020, 1, 16, 23, 0)"
      ]
     },
     "execution_count": 124,
     "metadata": {},
     "output_type": "execute_result"
    }
   ],
   "source": [
    "row.lpep_pickup_datetime.replace(minute=0, second=0, microsecond=0)"
   ]
  },
  {
   "cell_type": "code",
   "execution_count": 125,
   "id": "19586667",
   "metadata": {},
   "outputs": [],
   "source": [
    "def prepare_for_grouping(row):\n",
    "    hour = row.lpep_pickup_datetime.replace(minute=0, second=0, microsecond=0)\n",
    "    zone = row.PULocationID\n",
    "    key = (hour, zone)\n",
    "    \n",
    "    amount = row.total_amount\n",
    "    count = 1\n",
    "    value = (amount, count)\n",
    "    return (key, value)"
   ]
  },
  {
   "cell_type": "code",
   "execution_count": 126,
   "id": "cecabeef",
   "metadata": {},
   "outputs": [],
   "source": [
    "def calculate_revenue(left_value, right_value):\n",
    "    left_amount, left_count = left_value\n",
    "    right_amount, right_count = right_value\n",
    "    \n",
    "    output_amount = left_amount + right_amount\n",
    "    output_count = left_count + right_count\n",
    "    return (output_amount, output_count)"
   ]
  },
  {
   "cell_type": "code",
   "execution_count": 127,
   "id": "b20fb409",
   "metadata": {},
   "outputs": [],
   "source": [
    "from collections import namedtuple"
   ]
  },
  {
   "cell_type": "code",
   "execution_count": 128,
   "id": "5c727708",
   "metadata": {},
   "outputs": [],
   "source": [
    "RevenueRow = namedtuple('RevenueRow', ['hour', 'zone', 'revenue', 'count'])"
   ]
  },
  {
   "cell_type": "code",
   "execution_count": 129,
   "id": "94c8a60e",
   "metadata": {},
   "outputs": [],
   "source": [
    "def unwrap(row):\n",
    "    return RevenueRow(\n",
    "        hour=row[0][0],\n",
    "        zone=row[0][1],\n",
    "        revenue=row[1][0],\n",
    "        count=row[1][1])"
   ]
  },
  {
   "cell_type": "code",
   "execution_count": 130,
   "id": "44cf5a8c",
   "metadata": {},
   "outputs": [],
   "source": [
    "from pyspark.sql import types"
   ]
  },
  {
   "cell_type": "code",
   "execution_count": 131,
   "id": "643eed75",
   "metadata": {},
   "outputs": [],
   "source": [
    "result_schema = types.StructType([\n",
    "    types.StructField('hour', types.TimestampType(), True), \n",
    "    types.StructField('zone', types.IntegerType(), True), \n",
    "    types.StructField('revenue', types.DoubleType(), True), \n",
    "    types.StructField('count', types.IntegerType(), True)\n",
    "])"
   ]
  },
  {
   "cell_type": "code",
   "execution_count": 132,
   "id": "1845f080",
   "metadata": {},
   "outputs": [],
   "source": [
    "#rdd.filter(lambda row: row.lpep_pickup_datetime >= start).take(1)\n",
    "\n",
    "df_result = rdd.filter(filter_outliers) \\\n",
    "                .map(prepare_for_grouping) \\\n",
    "                .reduceByKey(reduce) \\\n",
    "                .map(unwrap) \\\n",
    "                .toDF(result_schema)"
   ]
  },
  {
   "cell_type": "code",
   "execution_count": 133,
   "id": "4fd86833",
   "metadata": {},
   "outputs": [
    {
     "data": {
      "text/plain": [
       "StructType([StructField('hour', TimestampType(), True), StructField('zone', IntegerType(), True), StructField('revenue', DoubleType(), True), StructField('count', IntegerType(), True)])"
      ]
     },
     "execution_count": 133,
     "metadata": {},
     "output_type": "execute_result"
    }
   ],
   "source": [
    "df_result.schema"
   ]
  },
  {
   "cell_type": "code",
   "execution_count": 134,
   "id": "81b8066f",
   "metadata": {},
   "outputs": [
    {
     "name": "stderr",
     "output_type": "stream",
     "text": [
      "[Stage 65:===========================================>              (3 + 1) / 4]\r"
     ]
    },
    {
     "name": "stdout",
     "output_type": "stream",
     "text": [
      "+-------------------+----+------------------+-----+\n",
      "|               hour|zone|           revenue|count|\n",
      "+-------------------+----+------------------+-----+\n",
      "|2020-01-31 08:00:00| 166| 487.2900000000001|   28|\n",
      "|2020-01-12 18:00:00|  41| 916.7399999999996|   66|\n",
      "|2020-01-17 11:00:00| 116|233.65000000000003|   14|\n",
      "|2020-01-27 18:00:00|  75|1256.4599999999998|   86|\n",
      "|2020-01-09 09:00:00|  35|342.08000000000004|   14|\n",
      "|2020-01-16 06:00:00|  42|            337.77|   14|\n",
      "|2020-01-05 07:00:00|  76|             62.56|    4|\n",
      "|2020-01-04 23:00:00| 205|              58.8|    1|\n",
      "|2020-01-15 19:00:00|  61|197.76000000000005|    9|\n",
      "|2020-01-30 11:00:00|  25| 290.3300000000001|   16|\n",
      "|2020-01-30 19:00:00| 255|186.77999999999997|   14|\n",
      "|2020-01-14 20:00:00|  41| 624.4899999999998|   43|\n",
      "|2020-01-24 16:00:00|  95| 636.4799999999997|   52|\n",
      "|2020-01-13 13:00:00|  41| 589.3199999999998|   45|\n",
      "|2020-01-12 20:00:00|  42| 333.5700000000001|   22|\n",
      "|2020-01-16 09:00:00|  74|1392.6799999999987|   98|\n",
      "|2020-01-12 18:00:00|  97| 715.1399999999999|   49|\n",
      "|2020-01-29 17:00:00|  33|            652.85|   36|\n",
      "|2020-01-21 13:00:00| 169|150.22000000000003|    6|\n",
      "|2020-01-12 23:00:00| 247| 77.89999999999999|    3|\n",
      "+-------------------+----+------------------+-----+\n",
      "only showing top 20 rows\n",
      "\n"
     ]
    },
    {
     "name": "stderr",
     "output_type": "stream",
     "text": [
      "\r",
      "                                                                                \r"
     ]
    }
   ],
   "source": [
    "df_result.show()"
   ]
  },
  {
   "cell_type": "code",
   "execution_count": 136,
   "id": "cd792499",
   "metadata": {},
   "outputs": [
    {
     "name": "stderr",
     "output_type": "stream",
     "text": [
      "                                                                                \r"
     ]
    }
   ],
   "source": [
    "df_result.write.parquet('tmp/green-revenue', mode='overwrite')"
   ]
  },
  {
   "cell_type": "code",
   "execution_count": 137,
   "id": "5bfefa32",
   "metadata": {},
   "outputs": [],
   "source": [
    "columns = ['VendorID', 'lpep_pickup_datetime', 'PULocationID', 'DOLocationID', 'trip_distance']\n",
    "\n",
    "duration_rdd = df_green \\\n",
    "    .select(columns) \\\n",
    "    .rdd"
   ]
  },
  {
   "cell_type": "code",
   "execution_count": 138,
   "id": "d52cc073",
   "metadata": {},
   "outputs": [],
   "source": [
    "import pandas as pd"
   ]
  },
  {
   "cell_type": "code",
   "execution_count": 139,
   "id": "6016cc3d",
   "metadata": {},
   "outputs": [],
   "source": [
    "rows = duration_rdd.take(10)"
   ]
  },
  {
   "cell_type": "code",
   "execution_count": 140,
   "id": "d5eb28e1",
   "metadata": {},
   "outputs": [],
   "source": [
    "df = pd.DataFrame(rows, columns=columns)"
   ]
  },
  {
   "cell_type": "code",
   "execution_count": 105,
   "id": "3339833f",
   "metadata": {},
   "outputs": [
    {
     "data": {
      "text/plain": [
       "['VendorID',\n",
       " 'lpep_pickup_datetime',\n",
       " 'PULocationID',\n",
       " 'DOLocationID',\n",
       " 'trip_distance']"
      ]
     },
     "execution_count": 105,
     "metadata": {},
     "output_type": "execute_result"
    }
   ],
   "source": [
    "columns"
   ]
  },
  {
   "cell_type": "code",
   "execution_count": 141,
   "id": "0a60464e",
   "metadata": {},
   "outputs": [],
   "source": [
    "#model = ...\n",
    "\n",
    "def model_predict(df):\n",
    "    # y_pred = model.predict(df)\n",
    "    y_pred = df.trip_distance * 5\n",
    "    return y_pred"
   ]
  },
  {
   "cell_type": "code",
   "execution_count": 142,
   "id": "df4f34be",
   "metadata": {},
   "outputs": [],
   "source": [
    "def apply_model_in_batch(rows):\n",
    "    df = pd.DataFrame(rows, columns=columns)\n",
    "    predictions = model_predict(df)\n",
    "    df['predicted_duration'] = predictions\n",
    "    \n",
    "    for row in df.itertuples():\n",
    "        yield row\n",
    "    "
   ]
  },
  {
   "cell_type": "code",
   "execution_count": 149,
   "id": "4410dc9f",
   "metadata": {},
   "outputs": [
    {
     "name": "stderr",
     "output_type": "stream",
     "text": [
      "                                                                                \r"
     ]
    }
   ],
   "source": [
    "df_predicts = duration_rdd \\\n",
    "    .mapPartitions(apply_model_in_batch) \\\n",
    "    .toDF() \\\n",
    "    .drop('Index')"
   ]
  },
  {
   "cell_type": "code",
   "execution_count": 151,
   "id": "663d83ec",
   "metadata": {},
   "outputs": [
    {
     "name": "stderr",
     "output_type": "stream",
     "text": [
      "\r",
      "[Stage 74:>                                                         (0 + 1) / 1]\r"
     ]
    },
    {
     "name": "stdout",
     "output_type": "stream",
     "text": [
      "+------------------+\n",
      "|predicted_duration|\n",
      "+------------------+\n",
      "|              43.0|\n",
      "|              25.8|\n",
      "|             81.35|\n",
      "|               7.1|\n",
      "|              23.1|\n",
      "|             13.35|\n",
      "|               3.2|\n",
      "|              2.15|\n",
      "|6.8999999999999995|\n",
      "|               5.0|\n",
      "|               7.1|\n",
      "|41.150000000000006|\n",
      "|             33.55|\n",
      "|               0.0|\n",
      "|             41.25|\n",
      "|7.1499999999999995|\n",
      "|              51.2|\n",
      "|              3.05|\n",
      "| 8.100000000000001|\n",
      "|17.150000000000002|\n",
      "+------------------+\n",
      "only showing top 20 rows\n",
      "\n"
     ]
    },
    {
     "name": "stderr",
     "output_type": "stream",
     "text": [
      "\r",
      "                                                                                \r"
     ]
    }
   ],
   "source": [
    "df_predicts.select('predicted_duration').show()"
   ]
  },
  {
   "cell_type": "code",
   "execution_count": null,
   "id": "227afd12",
   "metadata": {},
   "outputs": [],
   "source": []
  }
 ],
 "metadata": {
  "kernelspec": {
   "display_name": "Python 3 (ipykernel)",
   "language": "python",
   "name": "python3"
  },
  "language_info": {
   "codemirror_mode": {
    "name": "ipython",
    "version": 3
   },
   "file_extension": ".py",
   "mimetype": "text/x-python",
   "name": "python",
   "nbconvert_exporter": "python",
   "pygments_lexer": "ipython3",
   "version": "3.9.16"
  }
 },
 "nbformat": 4,
 "nbformat_minor": 5
}
